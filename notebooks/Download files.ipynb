{
 "cells": [
  {
   "cell_type": "markdown",
   "metadata": {},
   "source": [
    "#Traitement des données"
   ]
  },
  {
   "cell_type": "code",
   "execution_count": null,
   "metadata": {},
   "outputs": [],
   "source": [
    "import pandas as pd\n",
    "import glob"
   ]
  },
  {
   "cell_type": "code",
   "execution_count": null,
   "metadata": {},
   "outputs": [],
   "source": [
    "#Reading the JSON File \n",
    "file_list = glob.glob('../data/raw/data_commune*.json')\n",
    "print(file_list)\n",
    "\n",
    "data_frames = [pd.read_json(file) for file in file_list]\n",
    "df = pd.concat(data_frames)\n",
    "    \n",
    "df.head()"
   ]
  },
  {
   "cell_type": "code",
   "execution_count": null,
   "metadata": {},
   "outputs": [],
   "source": [
    "df = df.drop(columns=['geo_point_2d','geo_shape','year', 'arrdep_code', 'arrdep_name', 'ze2020_code','ze2020_name','bv2022_code','bv2022_name','epci_code','epci_name'\n",
    "                 ,'ept_code','ept_name', 'com_area_code','ze2010_name','ze2010_code','com_cataeu2010_code','com_cataeu2010_name','com_uu2010_code','com_uu2010_status',\n",
    "                 'com_au2010_code','com_cateaav2020_code','com_cateaav2020_name', 'com_uu2020_code','com_uu2020_status','com_aav2020_code','com_cv_code','com_in_ctu',\n",
    "                 'com_siren_code','com_is_mountain_area'])\n",
    "list_columns = df.columns\n",
    "print(list_columns)\n",
    "df.head()"
   ]
  },
  {
   "cell_type": "code",
   "execution_count": null,
   "metadata": {},
   "outputs": [],
   "source": [
    "# Table region\n",
    "df_region = df[['reg_code','reg_name']]\n",
    "df_region['reg_code'] = df['reg_code'].apply(lambda x: x[0])\n",
    "df_region['reg_name'] = df['reg_name'].apply(lambda x: x[0])\n",
    "df_region = df_region.drop_duplicates().reset_index()\n",
    "df_region = df_region[['reg_code','reg_name']]\n",
    "df_region.head()\n",
    "\n",
    "#df_region = df[['reg_code','reg_name']]\n",
    "#df_region['reg_code'] = df_region['reg_code']\n",
    "#df_region.drop_duplicates()\n",
    "#\n",
    "\n",
    "# Table departement\n",
    "#df_departement = df[['dep_code','dep_name','reg_code']]\n",
    "#df_departement.drop_duplicates()\n",
    "#df_departement.to_parquet(path='data\\\\silver\\\\departement.parquet')\n",
    "\n",
    "# Table villes\n",
    "#df_villes = df[['dep_code','com_code','com_name_upper']]\n",
    "#df_villes = df_departement.drop_duplicates()\n",
    "#df_villes.to_parquet(path='data\\\\silver\\\\villes.parquet')"
   ]
  },
  {
   "cell_type": "code",
   "execution_count": null,
   "metadata": {},
   "outputs": [],
   "source": [
    "df_region = df_region.rename(columns={\"reg_code\" : \"REGION_CD\",\"reg_name\":\"REGION_LB\"})\n",
    "df_region.head()"
   ]
  },
  {
   "cell_type": "code",
   "execution_count": null,
   "metadata": {},
   "outputs": [],
   "source": [
    "# Transposée d'une colonne :\n",
    "pd.melt(df_region)"
   ]
  },
  {
   "cell_type": "code",
   "execution_count": null,
   "metadata": {},
   "outputs": [],
   "source": [
    "#Tri des colonnes par ordre croissant ou décroissant\n",
    "df_region.sort_values(by=\"REGION_CD\",ascending=False).reset_index().drop(columns=[\"index\"]).head(10)"
   ]
  },
  {
   "cell_type": "code",
   "execution_count": null,
   "metadata": {},
   "outputs": [],
   "source": [
    "#df_region[df_region[\"REGION_CD\"] > \"80\"]  \n",
    "#df_region[df_region[\"REGION_LB\"].str.startswith(\"C\")] \n",
    "df_region[(df_region[\"REGION_CD\"] > \"80\") & (df_region[\"REGION_LB\"].str.startswith(\"C\"))]"
   ]
  },
  {
   "cell_type": "code",
   "execution_count": null,
   "metadata": {},
   "outputs": [],
   "source": [
    "df_region.iloc[:, [1]].head(5)"
   ]
  },
  {
   "cell_type": "code",
   "execution_count": null,
   "metadata": {},
   "outputs": [],
   "source": [
    "# Accéder à une valeur particulière\n",
    "df_region.iat[0, 1]"
   ]
  },
  {
   "cell_type": "code",
   "execution_count": null,
   "metadata": {},
   "outputs": [],
   "source": [
    "df_region[\"REGION_LB\"].apply(lambda a : a.upper()).head(5)\n",
    "# Function similaire : df_region[\"REGION_LB\"].str.upper().head(5)"
   ]
  },
  {
   "cell_type": "code",
   "execution_count": null,
   "metadata": {},
   "outputs": [],
   "source": [
    "df_region[\"REGION_CD\"].values"
   ]
  },
  {
   "cell_type": "code",
   "execution_count": null,
   "metadata": {},
   "outputs": [],
   "source": [
    "df_region[df_region[\"REGION_CD\"].isin([\"75\"])]"
   ]
  },
  {
   "cell_type": "code",
   "execution_count": null,
   "metadata": {},
   "outputs": [],
   "source": [
    "# Compter le nombre d'occurence par champs\n",
    "df_region[\"REGION_LB\"].value_counts().head(5)"
   ]
  },
  {
   "cell_type": "code",
   "execution_count": null,
   "metadata": {},
   "outputs": [],
   "source": [
    "df_region['NEW_COLUMN'] = df_region[\"REGION_LB\"].apply(lambda a : a[0]) \n",
    "df_region.head(5)"
   ]
  },
  {
   "cell_type": "code",
   "execution_count": null,
   "metadata": {},
   "outputs": [],
   "source": [
    "# utilisation du groupe by sur le champs \"NEW_COLUMN\"\n",
    "df2 = df_region.groupby(\"NEW_COLUMN\")[\"REGION_CD\"].count()\n",
    "df2"
   ]
  },
  {
   "cell_type": "code",
   "execution_count": null,
   "metadata": {},
   "outputs": [],
   "source": [
    "df_region[(df_region[\"REGION_CD\"] > \"80\") & (df_region[\"REGION_LB\"].str.startswith(\"C\"))].groupby(\"NEW_COLUMN\")[\"REGION_CD\"].count()"
   ]
  },
  {
   "cell_type": "code",
   "execution_count": null,
   "metadata": {},
   "outputs": [],
   "source": [
    "df_region.to_parquet(path='data\\\\silver\\\\region.parquet')"
   ]
  }
 ],
 "metadata": {
  "kernelspec": {
   "display_name": ".venv",
   "language": "python",
   "name": "python3"
  },
  "language_info": {
   "codemirror_mode": {
    "name": "ipython",
    "version": 3
   },
   "file_extension": ".py",
   "mimetype": "text/x-python",
   "name": "python",
   "nbconvert_exporter": "python",
   "pygments_lexer": "ipython3",
   "version": "3.12.7"
  }
 },
 "nbformat": 4,
 "nbformat_minor": 2
}
